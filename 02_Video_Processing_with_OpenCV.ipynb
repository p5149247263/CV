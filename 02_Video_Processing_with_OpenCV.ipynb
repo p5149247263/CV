{
 "cells": [
  {
   "cell_type": "markdown",
   "id": "b3c21e7d",
   "metadata": {},
   "source": [
    "# Video Processing with OpenCV"
   ]
  },
  {
   "cell_type": "code",
   "execution_count": null,
   "id": "03022a8e",
   "metadata": {},
   "outputs": [],
   "source": [
    "import cv2\n",
    "\n",
    "cap = cv2.VideoCapture('path_to_video.mp4')\n",
    "\n",
    "while cap.isOpened():\n",
    "    ret, frame = cap.read()\n",
    "    if not ret:\n",
    "        break\n",
    "    cv2.imshow('Video Frame', frame)\n",
    "    if cv2.waitKey(1) & 0xFF == ord('q'):\n",
    "        break\n",
    "cap.release()\n",
    "cv2.destroyAllWindows()"
   ]
  }
 ],
 "metadata": {},
 "nbformat": 4,
 "nbformat_minor": 5
}
