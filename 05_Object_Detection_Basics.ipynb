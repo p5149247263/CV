{
 "cells": [
  {
   "cell_type": "markdown",
   "id": "edc9a146",
   "metadata": {},
   "source": [
    "# Object Detection Basics"
   ]
  },
  {
   "cell_type": "code",
   "execution_count": null,
   "id": "b962b219",
   "metadata": {},
   "outputs": [],
   "source": [
    "import torch\n",
    "\n",
    "model = torch.hub.load('ultralytics/yolov5', 'yolov5s')\n",
    "\n",
    "def detect_objects(image_path):\n",
    "    results = model(image_path)\n",
    "    results.show()\n",
    "\n",
    "image_path = 'path_to_image.jpg'  # Replace with your image path\n",
    "detect_objects(image_path)"
   ]
  }
 ],
 "metadata": {},
 "nbformat": 4,
 "nbformat_minor": 5
}
