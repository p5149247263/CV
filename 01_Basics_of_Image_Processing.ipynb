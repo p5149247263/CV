{
 "cells": [
  {
   "cell_type": "markdown",
   "id": "8b4f8eed",
   "metadata": {},
   "source": [
    "# Basics of Image Processing with OpenCV"
   ]
  },
  {
   "cell_type": "code",
   "execution_count": null,
   "id": "840f3867",
   "metadata": {},
   "outputs": [],
   "source": [
    "import cv2\n",
    "import matplotlib.pyplot as plt\n",
    "\n",
    "def display_image(image_path):\n",
    "    image = cv2.imread(image_path)\n",
    "    image_rgb = cv2.cvtColor(image, cv2.COLOR_BGR2RGB)\n",
    "    plt.imshow(image_rgb)\n",
    "    plt.axis('off')\n",
    "    plt.title('Loaded Image')\n",
    "    plt.show()\n",
    "\n",
    "# Example: Load and display an image\n",
    "image_path = 'path_to_image.jpg'  # Replace with the path to your image\n",
    "display_image(image_path)"
   ]
  }
 ],
 "metadata": {},
 "nbformat": 4,
 "nbformat_minor": 5
}
